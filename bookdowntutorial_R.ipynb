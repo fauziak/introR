{
  "nbformat": 4,
  "nbformat_minor": 0,
  "metadata": {
    "colab": {
      "provenance": [],
      "collapsed_sections": [],
      "authorship_tag": "ABX9TyPvTow7WLdy1kbTmbSLxYkz",
      "include_colab_link": true
    },
    "kernelspec": {
      "name": "ir",
      "display_name": "R"
    },
    "language_info": {
      "name": "R"
    }
  },
  "cells": [
    {
      "cell_type": "markdown",
      "metadata": {
        "id": "view-in-github",
        "colab_type": "text"
      },
      "source": [
        "<a href=\"https://colab.research.google.com/github/fauziak/introR/blob/main/bookdowntutorial_R.ipynb\" target=\"_parent\"><img src=\"https://colab.research.google.com/assets/colab-badge.svg\" alt=\"Open In Colab\"/></a>"
      ]
    },
    {
      "cell_type": "code",
      "execution_count": 1,
      "metadata": {
        "id": "NyH1xiPFTrXm"
      },
      "outputs": [],
      "source": [
        "#1.2.1 Variable Assignment \n",
        "x <- 12"
      ]
    },
    {
      "cell_type": "code",
      "source": [
        "#Create vector of integers from 0 to 9\n",
        "some_numbers <- c(0,1,2,3,4,5,6,7,8,9)"
      ],
      "metadata": {
        "id": "XqGrqDqLT4Rd"
      },
      "execution_count": 2,
      "outputs": []
    },
    {
      "cell_type": "code",
      "source": [
        "#Alternatively \n",
        "some_numbers <- c(0:9)\n",
        "print(some_numbers)\n"
      ],
      "metadata": {
        "colab": {
          "base_uri": "https://localhost:8080/"
        },
        "id": "0WhpGRnFT8UB",
        "outputId": "058dc4a7-c5a2-45b8-d401-cea052378062"
      },
      "execution_count": 3,
      "outputs": [
        {
          "output_type": "stream",
          "name": "stdout",
          "text": [
            " [1] 0 1 2 3 4 5 6 7 8 9\n"
          ]
        }
      ]
    },
    {
      "cell_type": "code",
      "source": [
        "#1.3.2 R functions \n",
        "mean(some_numbers)\n",
        "print(mean(some_numbers))"
      ],
      "metadata": {
        "colab": {
          "base_uri": "https://localhost:8080/",
          "height": 52
        },
        "id": "N5DCjl4-T-sI",
        "outputId": "bad71cef-81fd-4d36-853b-8362ef88dc5c"
      },
      "execution_count": 4,
      "outputs": [
        {
          "output_type": "display_data",
          "data": {
            "text/html": [
              "4.5"
            ],
            "text/markdown": "4.5",
            "text/latex": "4.5",
            "text/plain": [
              "[1] 4.5"
            ]
          },
          "metadata": {}
        },
        {
          "output_type": "stream",
          "name": "stdout",
          "text": [
            "[1] 4.5\n"
          ]
        }
      ]
    },
    {
      "cell_type": "code",
      "source": [
        "#1.4 Packages \n",
        "install.packages('tidyverse')\n",
        "library(tidyverse)\n",
        "install.packages('ggplot2')\n",
        "install.packages('dplyr')\n",
        "# install.packages('stats')"
      ],
      "metadata": {
        "colab": {
          "base_uri": "https://localhost:8080/"
        },
        "id": "Gs-BpvCjUAoB",
        "outputId": "e1b3ca32-caec-49aa-9ecb-a9d5366356a3"
      },
      "execution_count": 5,
      "outputs": [
        {
          "output_type": "stream",
          "name": "stderr",
          "text": [
            "Installing package into ‘/usr/local/lib/R/site-library’\n",
            "(as ‘lib’ is unspecified)\n",
            "\n",
            "Warning message in system(\"timedatectl\", intern = TRUE):\n",
            "“running command 'timedatectl' had status 1”\n",
            "── \u001b[1mAttaching packages\u001b[22m ─────────────────────────────────────── tidyverse 1.3.2 ──\n",
            "\u001b[32m✔\u001b[39m \u001b[34mggplot2\u001b[39m 3.3.6      \u001b[32m✔\u001b[39m \u001b[34mpurrr  \u001b[39m 0.3.5 \n",
            "\u001b[32m✔\u001b[39m \u001b[34mtibble \u001b[39m 3.1.7      \u001b[32m✔\u001b[39m \u001b[34mdplyr  \u001b[39m 1.0.10\n",
            "\u001b[32m✔\u001b[39m \u001b[34mtidyr  \u001b[39m 1.2.1      \u001b[32m✔\u001b[39m \u001b[34mstringr\u001b[39m 1.4.1 \n",
            "\u001b[32m✔\u001b[39m \u001b[34mreadr  \u001b[39m 2.1.3      \u001b[32m✔\u001b[39m \u001b[34mforcats\u001b[39m 0.5.2 \n",
            "── \u001b[1mConflicts\u001b[22m ────────────────────────────────────────── tidyverse_conflicts() ──\n",
            "\u001b[31m✖\u001b[39m \u001b[34mdplyr\u001b[39m::\u001b[32mfilter()\u001b[39m masks \u001b[34mstats\u001b[39m::filter()\n",
            "\u001b[31m✖\u001b[39m \u001b[34mdplyr\u001b[39m::\u001b[32mlag()\u001b[39m    masks \u001b[34mstats\u001b[39m::lag()\n",
            "Installing package into ‘/usr/local/lib/R/site-library’\n",
            "(as ‘lib’ is unspecified)\n",
            "\n",
            "Installing package into ‘/usr/local/lib/R/site-library’\n",
            "(as ‘lib’ is unspecified)\n",
            "\n"
          ]
        }
      ]
    },
    {
      "cell_type": "code",
      "source": [
        "#2.1 R Packages \n",
        "#ggplot2 - has functions for plotting data\n",
        "#dplyr - has functions for cleaning/manipulating data\n",
        "#stats - has functions for statistical calculations and random number generation"
      ],
      "metadata": {
        "id": "qH3gL_HIUlt3"
      },
      "execution_count": null,
      "outputs": []
    },
    {
      "cell_type": "code",
      "source": [
        "# 2.1.2 Loading packages in an R session \n",
        "library(tidyverse)"
      ],
      "metadata": {
        "id": "TQFMSpuxVEcG"
      },
      "execution_count": 6,
      "outputs": []
    },
    {
      "cell_type": "code",
      "source": [
        "#2.2 Loading Data \n",
        "paygap <- read.csv('/content/UK Gender Pay Gap Data - 2020 to 2021.csv', header = TRUE)"
      ],
      "metadata": {
        "id": "8LpICFdgVjv2"
      },
      "execution_count": 11,
      "outputs": []
    },
    {
      "cell_type": "code",
      "source": [
        "head(paygap, n = 5)"
      ],
      "metadata": {
        "colab": {
          "base_uri": "https://localhost:8080/",
          "height": 813
        },
        "id": "Css_8XTQdMry",
        "outputId": "971764ea-0ca9-4321-8047-55765851e6ca"
      },
      "execution_count": 12,
      "outputs": [
        {
          "output_type": "display_data",
          "data": {
            "text/html": [
              "<table class=\"dataframe\">\n",
              "<caption>A data.frame: 5 × 27</caption>\n",
              "<thead>\n",
              "\t<tr><th></th><th scope=col>EmployerName</th><th scope=col>EmployerId</th><th scope=col>Address</th><th scope=col>PostCode</th><th scope=col>CompanyNumber</th><th scope=col>SicCodes</th><th scope=col>DiffMeanHourlyPercent</th><th scope=col>DiffMedianHourlyPercent</th><th scope=col>DiffMeanBonusPercent</th><th scope=col>DiffMedianBonusPercent</th><th scope=col>⋯</th><th scope=col>FemaleUpperMiddleQuartile</th><th scope=col>MaleTopQuartile</th><th scope=col>FemaleTopQuartile</th><th scope=col>CompanyLinkToGPGInfo</th><th scope=col>ResponsiblePerson</th><th scope=col>EmployerSize</th><th scope=col>CurrentName</th><th scope=col>SubmittedAfterTheDeadline</th><th scope=col>DueDate</th><th scope=col>DateSubmitted</th></tr>\n",
              "\t<tr><th></th><th scope=col>&lt;chr&gt;</th><th scope=col>&lt;int&gt;</th><th scope=col>&lt;chr&gt;</th><th scope=col>&lt;chr&gt;</th><th scope=col>&lt;chr&gt;</th><th scope=col>&lt;chr&gt;</th><th scope=col>&lt;dbl&gt;</th><th scope=col>&lt;dbl&gt;</th><th scope=col>&lt;dbl&gt;</th><th scope=col>&lt;dbl&gt;</th><th scope=col>⋯</th><th scope=col>&lt;dbl&gt;</th><th scope=col>&lt;dbl&gt;</th><th scope=col>&lt;dbl&gt;</th><th scope=col>&lt;chr&gt;</th><th scope=col>&lt;chr&gt;</th><th scope=col>&lt;chr&gt;</th><th scope=col>&lt;chr&gt;</th><th scope=col>&lt;lgl&gt;</th><th scope=col>&lt;chr&gt;</th><th scope=col>&lt;chr&gt;</th></tr>\n",
              "</thead>\n",
              "<tbody>\n",
              "\t<tr><th scope=row>1</th><td>'PRIFYSGOL ABERYSTWYTH' AND 'ABERYSTWYTH UNIVERSITY'</td><td>19070</td><td>Aberystwyth University, Penglais, Ceredigion, SY23 3FL                                             </td><td>SY23 3FL</td><td>RC000641</td><td>             </td><td>10.3</td><td> 8.7</td><td>  NA</td><td>  NA</td><td>⋯</td><td>55.0</td><td>58.0</td><td>42.0</td><td>https://www.aber.ac.uk/en/equality/genderpaygapreporting2021/                                    </td><td>Elizabeth Treasure (Vice-Chancellor)</td><td>1000 to 4999 </td><td>'PRIFYSGOL ABERYSTWYTH' AND 'ABERYSTWYTH UNIVERSITY'</td><td>FALSE</td><td>10/6/21 0:00</td><td>4/15/21 9:57 </td></tr>\n",
              "\t<tr><th scope=row>2</th><td>\"RED BAND\" CHEMICAL COMPANY, LIMITED                </td><td>16879</td><td>19 Smith's Place, Leith Walk, Edinburgh, EH6 8NU                                                   </td><td>EH6 8NU </td><td>SC016876</td><td>47730        </td><td> 0.5</td><td> 0.0</td><td> 7.0</td><td> 0.0</td><td>⋯</td><td>92.0</td><td>24.0</td><td>76.0</td><td>                                                                                                 </td><td>Philip Galt (Managing Director)     </td><td>250 to 499   </td><td>\"RED BAND\" CHEMICAL COMPANY, LIMITED                </td><td>FALSE</td><td>10/6/21 0:00</td><td>9/30/21 11:25</td></tr>\n",
              "\t<tr><th scope=row>3</th><td>123-REG LIMITED                                     </td><td>20308</td><td>5th Floor, The Shipping Building Old Vinyl Factory, 252 - 254 Blyth Road, Hayes, Middlesex, UB3 1HA</td><td>UB3 1HA </td><td>5306504 </td><td>63110        </td><td>16.6</td><td>18.1</td><td>58.1</td><td>40.2</td><td>⋯</td><td>32.3</td><td>82.0</td><td>18.0</td><td>https://www.123-reg.co.uk/terms/gender-pay-report-explanatory-statement/                         </td><td>Richard Winslow (Director)          </td><td>250 to 499   </td><td>123-REG LIMITED                                     </td><td>FALSE</td><td>10/6/21 0:00</td><td>10/5/21 11:02</td></tr>\n",
              "\t<tr><th scope=row>4</th><td>1509 GROUP                                          </td><td>15320</td><td>Royal Grammar School, High Street, Guildford, Surrey, GU1 3BB                                      </td><td>GU1 3BB </td><td>4104101 </td><td>85200,\n",
              "85310</td><td>13.3</td><td>12.7</td><td>  NA</td><td>  NA</td><td>⋯</td><td>50.0</td><td>64.0</td><td>36.0</td><td>https://www.rgsg.co.uk                                                                           </td><td>Kate Perceval (Bursar)              </td><td>Less than 250</td><td>1509 GROUP                                          </td><td>FALSE</td><td>10/6/21 0:00</td><td>9/7/21 16:12 </td></tr>\n",
              "\t<tr><th scope=row>5</th><td>1825 FINANCIAL PLANNING AND ADVICE LIMITED          </td><td>19795</td><td>Bow Bells House, 1 Bread Street, London, United Kingdom, EC4M 9HH                                  </td><td>EC4M 9HH</td><td>1447544 </td><td>64999,\n",
              "66190</td><td>44.5</td><td>42.6</td><td>74.1</td><td>83.0</td><td>⋯</td><td>48.0</td><td>78.9</td><td>21.1</td><td>https://www.standardlifeaberdeen.com/en/careers/diversity-and-inclusion/addressing-gender-balance</td><td>Julie Scott (Director)              </td><td>250 to 499   </td><td>ABRDN FINANCIAL PLANNING AND ADVICE LIMITED         </td><td>FALSE</td><td>10/6/21 0:00</td><td>12/17/20 7:59</td></tr>\n",
              "</tbody>\n",
              "</table>\n"
            ],
            "text/markdown": "\nA data.frame: 5 × 27\n\n| <!--/--> | EmployerName &lt;chr&gt; | EmployerId &lt;int&gt; | Address &lt;chr&gt; | PostCode &lt;chr&gt; | CompanyNumber &lt;chr&gt; | SicCodes &lt;chr&gt; | DiffMeanHourlyPercent &lt;dbl&gt; | DiffMedianHourlyPercent &lt;dbl&gt; | DiffMeanBonusPercent &lt;dbl&gt; | DiffMedianBonusPercent &lt;dbl&gt; | ⋯ ⋯ | FemaleUpperMiddleQuartile &lt;dbl&gt; | MaleTopQuartile &lt;dbl&gt; | FemaleTopQuartile &lt;dbl&gt; | CompanyLinkToGPGInfo &lt;chr&gt; | ResponsiblePerson &lt;chr&gt; | EmployerSize &lt;chr&gt; | CurrentName &lt;chr&gt; | SubmittedAfterTheDeadline &lt;lgl&gt; | DueDate &lt;chr&gt; | DateSubmitted &lt;chr&gt; |\n|---|---|---|---|---|---|---|---|---|---|---|---|---|---|---|---|---|---|---|---|---|---|\n| 1 | 'PRIFYSGOL ABERYSTWYTH' AND 'ABERYSTWYTH UNIVERSITY' | 19070 | Aberystwyth University, Penglais, Ceredigion, SY23 3FL                                              | SY23 3FL | RC000641 | <!----> | 10.3 |  8.7 |   NA |   NA | ⋯ | 55.0 | 58.0 | 42.0 | https://www.aber.ac.uk/en/equality/genderpaygapreporting2021/                                     | Elizabeth Treasure (Vice-Chancellor) | 1000 to 4999  | 'PRIFYSGOL ABERYSTWYTH' AND 'ABERYSTWYTH UNIVERSITY' | FALSE | 10/6/21 0:00 | 4/15/21 9:57  |\n| 2 | \"RED BAND\" CHEMICAL COMPANY, LIMITED                 | 16879 | 19 Smith's Place, Leith Walk, Edinburgh, EH6 8NU                                                    | EH6 8NU  | SC016876 | 47730         |  0.5 |  0.0 |  7.0 |  0.0 | ⋯ | 92.0 | 24.0 | 76.0 | <!----> | Philip Galt (Managing Director)      | 250 to 499    | \"RED BAND\" CHEMICAL COMPANY, LIMITED                 | FALSE | 10/6/21 0:00 | 9/30/21 11:25 |\n| 3 | 123-REG LIMITED                                      | 20308 | 5th Floor, The Shipping Building Old Vinyl Factory, 252 - 254 Blyth Road, Hayes, Middlesex, UB3 1HA | UB3 1HA  | 5306504  | 63110         | 16.6 | 18.1 | 58.1 | 40.2 | ⋯ | 32.3 | 82.0 | 18.0 | https://www.123-reg.co.uk/terms/gender-pay-report-explanatory-statement/                          | Richard Winslow (Director)           | 250 to 499    | 123-REG LIMITED                                      | FALSE | 10/6/21 0:00 | 10/5/21 11:02 |\n| 4 | 1509 GROUP                                           | 15320 | Royal Grammar School, High Street, Guildford, Surrey, GU1 3BB                                       | GU1 3BB  | 4104101  | 85200,\n85310 | 13.3 | 12.7 |   NA |   NA | ⋯ | 50.0 | 64.0 | 36.0 | https://www.rgsg.co.uk                                                                            | Kate Perceval (Bursar)               | Less than 250 | 1509 GROUP                                           | FALSE | 10/6/21 0:00 | 9/7/21 16:12  |\n| 5 | 1825 FINANCIAL PLANNING AND ADVICE LIMITED           | 19795 | Bow Bells House, 1 Bread Street, London, United Kingdom, EC4M 9HH                                   | EC4M 9HH | 1447544  | 64999,\n66190 | 44.5 | 42.6 | 74.1 | 83.0 | ⋯ | 48.0 | 78.9 | 21.1 | https://www.standardlifeaberdeen.com/en/careers/diversity-and-inclusion/addressing-gender-balance | Julie Scott (Director)               | 250 to 499    | ABRDN FINANCIAL PLANNING AND ADVICE LIMITED          | FALSE | 10/6/21 0:00 | 12/17/20 7:59 |\n\n",
            "text/latex": "A data.frame: 5 × 27\n\\begin{tabular}{r|lllllllllllllllllllll}\n  & EmployerName & EmployerId & Address & PostCode & CompanyNumber & SicCodes & DiffMeanHourlyPercent & DiffMedianHourlyPercent & DiffMeanBonusPercent & DiffMedianBonusPercent & ⋯ & FemaleUpperMiddleQuartile & MaleTopQuartile & FemaleTopQuartile & CompanyLinkToGPGInfo & ResponsiblePerson & EmployerSize & CurrentName & SubmittedAfterTheDeadline & DueDate & DateSubmitted\\\\\n  & <chr> & <int> & <chr> & <chr> & <chr> & <chr> & <dbl> & <dbl> & <dbl> & <dbl> & ⋯ & <dbl> & <dbl> & <dbl> & <chr> & <chr> & <chr> & <chr> & <lgl> & <chr> & <chr>\\\\\n\\hline\n\t1 & 'PRIFYSGOL ABERYSTWYTH' AND 'ABERYSTWYTH UNIVERSITY' & 19070 & Aberystwyth University, Penglais, Ceredigion, SY23 3FL                                              & SY23 3FL & RC000641 &               & 10.3 &  8.7 &   NA &   NA & ⋯ & 55.0 & 58.0 & 42.0 & https://www.aber.ac.uk/en/equality/genderpaygapreporting2021/                                     & Elizabeth Treasure (Vice-Chancellor) & 1000 to 4999  & 'PRIFYSGOL ABERYSTWYTH' AND 'ABERYSTWYTH UNIVERSITY' & FALSE & 10/6/21 0:00 & 4/15/21 9:57 \\\\\n\t2 & \"RED BAND\" CHEMICAL COMPANY, LIMITED                 & 16879 & 19 Smith's Place, Leith Walk, Edinburgh, EH6 8NU                                                    & EH6 8NU  & SC016876 & 47730         &  0.5 &  0.0 &  7.0 &  0.0 & ⋯ & 92.0 & 24.0 & 76.0 &                                                                                                   & Philip Galt (Managing Director)      & 250 to 499    & \"RED BAND\" CHEMICAL COMPANY, LIMITED                 & FALSE & 10/6/21 0:00 & 9/30/21 11:25\\\\\n\t3 & 123-REG LIMITED                                      & 20308 & 5th Floor, The Shipping Building Old Vinyl Factory, 252 - 254 Blyth Road, Hayes, Middlesex, UB3 1HA & UB3 1HA  & 5306504  & 63110         & 16.6 & 18.1 & 58.1 & 40.2 & ⋯ & 32.3 & 82.0 & 18.0 & https://www.123-reg.co.uk/terms/gender-pay-report-explanatory-statement/                          & Richard Winslow (Director)           & 250 to 499    & 123-REG LIMITED                                      & FALSE & 10/6/21 0:00 & 10/5/21 11:02\\\\\n\t4 & 1509 GROUP                                           & 15320 & Royal Grammar School, High Street, Guildford, Surrey, GU1 3BB                                       & GU1 3BB  & 4104101  & 85200,\n85310 & 13.3 & 12.7 &   NA &   NA & ⋯ & 50.0 & 64.0 & 36.0 & https://www.rgsg.co.uk                                                                            & Kate Perceval (Bursar)               & Less than 250 & 1509 GROUP                                           & FALSE & 10/6/21 0:00 & 9/7/21 16:12 \\\\\n\t5 & 1825 FINANCIAL PLANNING AND ADVICE LIMITED           & 19795 & Bow Bells House, 1 Bread Street, London, United Kingdom, EC4M 9HH                                   & EC4M 9HH & 1447544  & 64999,\n66190 & 44.5 & 42.6 & 74.1 & 83.0 & ⋯ & 48.0 & 78.9 & 21.1 & https://www.standardlifeaberdeen.com/en/careers/diversity-and-inclusion/addressing-gender-balance & Julie Scott (Director)               & 250 to 499    & ABRDN FINANCIAL PLANNING AND ADVICE LIMITED          & FALSE & 10/6/21 0:00 & 12/17/20 7:59\\\\\n\\end{tabular}\n",
            "text/plain": [
              "  EmployerName                                         EmployerId\n",
              "1 'PRIFYSGOL ABERYSTWYTH' AND 'ABERYSTWYTH UNIVERSITY' 19070     \n",
              "2 \"RED BAND\" CHEMICAL COMPANY, LIMITED                 16879     \n",
              "3 123-REG LIMITED                                      20308     \n",
              "4 1509 GROUP                                           15320     \n",
              "5 1825 FINANCIAL PLANNING AND ADVICE LIMITED           19795     \n",
              "  Address                                                                                            \n",
              "1 Aberystwyth University, Penglais, Ceredigion, SY23 3FL                                             \n",
              "2 19 Smith's Place, Leith Walk, Edinburgh, EH6 8NU                                                   \n",
              "3 5th Floor, The Shipping Building Old Vinyl Factory, 252 - 254 Blyth Road, Hayes, Middlesex, UB3 1HA\n",
              "4 Royal Grammar School, High Street, Guildford, Surrey, GU1 3BB                                      \n",
              "5 Bow Bells House, 1 Bread Street, London, United Kingdom, EC4M 9HH                                  \n",
              "  PostCode CompanyNumber SicCodes      DiffMeanHourlyPercent\n",
              "1 SY23 3FL RC000641                    10.3                 \n",
              "2 EH6 8NU  SC016876      47730          0.5                 \n",
              "3 UB3 1HA  5306504       63110         16.6                 \n",
              "4 GU1 3BB  4104101       85200,\\n85310 13.3                 \n",
              "5 EC4M 9HH 1447544       64999,\\n66190 44.5                 \n",
              "  DiffMedianHourlyPercent DiffMeanBonusPercent DiffMedianBonusPercent ⋯\n",
              "1  8.7                      NA                   NA                   ⋯\n",
              "2  0.0                     7.0                  0.0                   ⋯\n",
              "3 18.1                    58.1                 40.2                   ⋯\n",
              "4 12.7                      NA                   NA                   ⋯\n",
              "5 42.6                    74.1                 83.0                   ⋯\n",
              "  FemaleUpperMiddleQuartile MaleTopQuartile FemaleTopQuartile\n",
              "1 55.0                      58.0            42.0             \n",
              "2 92.0                      24.0            76.0             \n",
              "3 32.3                      82.0            18.0             \n",
              "4 50.0                      64.0            36.0             \n",
              "5 48.0                      78.9            21.1             \n",
              "  CompanyLinkToGPGInfo                                                                             \n",
              "1 https://www.aber.ac.uk/en/equality/genderpaygapreporting2021/                                    \n",
              "2                                                                                                  \n",
              "3 https://www.123-reg.co.uk/terms/gender-pay-report-explanatory-statement/                         \n",
              "4 https://www.rgsg.co.uk                                                                           \n",
              "5 https://www.standardlifeaberdeen.com/en/careers/diversity-and-inclusion/addressing-gender-balance\n",
              "  ResponsiblePerson                    EmployerSize \n",
              "1 Elizabeth Treasure (Vice-Chancellor) 1000 to 4999 \n",
              "2 Philip Galt (Managing Director)      250 to 499   \n",
              "3 Richard Winslow (Director)           250 to 499   \n",
              "4 Kate Perceval (Bursar)               Less than 250\n",
              "5 Julie Scott (Director)               250 to 499   \n",
              "  CurrentName                                         \n",
              "1 'PRIFYSGOL ABERYSTWYTH' AND 'ABERYSTWYTH UNIVERSITY'\n",
              "2 \"RED BAND\" CHEMICAL COMPANY, LIMITED                \n",
              "3 123-REG LIMITED                                     \n",
              "4 1509 GROUP                                          \n",
              "5 ABRDN FINANCIAL PLANNING AND ADVICE LIMITED         \n",
              "  SubmittedAfterTheDeadline DueDate      DateSubmitted\n",
              "1 FALSE                     10/6/21 0:00 4/15/21 9:57 \n",
              "2 FALSE                     10/6/21 0:00 9/30/21 11:25\n",
              "3 FALSE                     10/6/21 0:00 10/5/21 11:02\n",
              "4 FALSE                     10/6/21 0:00 9/7/21 16:12 \n",
              "5 FALSE                     10/6/21 0:00 12/17/20 7:59"
            ]
          },
          "metadata": {}
        }
      ]
    },
    {
      "cell_type": "code",
      "source": [
        "colnames(paygap)\n",
        "print(colnames(paygap))"
      ],
      "metadata": {
        "colab": {
          "base_uri": "https://localhost:8080/",
          "height": 354
        },
        "id": "LjgwAHTpXpme",
        "outputId": "fdc70dd6-eb00-40c1-e556-1f092f95bfe8"
      },
      "execution_count": 24,
      "outputs": [
        {
          "output_type": "display_data",
          "data": {
            "text/html": [
              "<style>\n",
              ".list-inline {list-style: none; margin:0; padding: 0}\n",
              ".list-inline>li {display: inline-block}\n",
              ".list-inline>li:not(:last-child)::after {content: \"\\00b7\"; padding: 0 .5ex}\n",
              "</style>\n",
              "<ol class=list-inline><li>'EmployerName'</li><li>'EmployerId'</li><li>'Address'</li><li>'PostCode'</li><li>'CompanyNumber'</li><li>'SicCodes'</li><li>'DiffMeanHourlyPercent'</li><li>'DiffMedianHourlyPercent'</li><li>'DiffMeanBonusPercent'</li><li>'DiffMedianBonusPercent'</li><li>'MaleBonusPercent'</li><li>'FemaleBonusPercent'</li><li>'MaleLowerQuartile'</li><li>'FemaleLowerQuartile'</li><li>'MaleLowerMiddleQuartile'</li><li>'FemaleLowerMiddleQuartile'</li><li>'MaleUpperMiddleQuartile'</li><li>'FemaleUpperMiddleQuartile'</li><li>'MaleTopQuartile'</li><li>'FemaleTopQuartile'</li><li>'CompanyLinkToGPGInfo'</li><li>'ResponsiblePerson'</li><li>'EmployerSize'</li><li>'CurrentName'</li><li>'SubmittedAfterTheDeadline'</li><li>'DueDate'</li><li>'DateSubmitted'</li></ol>\n"
            ],
            "text/markdown": "1. 'EmployerName'\n2. 'EmployerId'\n3. 'Address'\n4. 'PostCode'\n5. 'CompanyNumber'\n6. 'SicCodes'\n7. 'DiffMeanHourlyPercent'\n8. 'DiffMedianHourlyPercent'\n9. 'DiffMeanBonusPercent'\n10. 'DiffMedianBonusPercent'\n11. 'MaleBonusPercent'\n12. 'FemaleBonusPercent'\n13. 'MaleLowerQuartile'\n14. 'FemaleLowerQuartile'\n15. 'MaleLowerMiddleQuartile'\n16. 'FemaleLowerMiddleQuartile'\n17. 'MaleUpperMiddleQuartile'\n18. 'FemaleUpperMiddleQuartile'\n19. 'MaleTopQuartile'\n20. 'FemaleTopQuartile'\n21. 'CompanyLinkToGPGInfo'\n22. 'ResponsiblePerson'\n23. 'EmployerSize'\n24. 'CurrentName'\n25. 'SubmittedAfterTheDeadline'\n26. 'DueDate'\n27. 'DateSubmitted'\n\n\n",
            "text/latex": "\\begin{enumerate*}\n\\item 'EmployerName'\n\\item 'EmployerId'\n\\item 'Address'\n\\item 'PostCode'\n\\item 'CompanyNumber'\n\\item 'SicCodes'\n\\item 'DiffMeanHourlyPercent'\n\\item 'DiffMedianHourlyPercent'\n\\item 'DiffMeanBonusPercent'\n\\item 'DiffMedianBonusPercent'\n\\item 'MaleBonusPercent'\n\\item 'FemaleBonusPercent'\n\\item 'MaleLowerQuartile'\n\\item 'FemaleLowerQuartile'\n\\item 'MaleLowerMiddleQuartile'\n\\item 'FemaleLowerMiddleQuartile'\n\\item 'MaleUpperMiddleQuartile'\n\\item 'FemaleUpperMiddleQuartile'\n\\item 'MaleTopQuartile'\n\\item 'FemaleTopQuartile'\n\\item 'CompanyLinkToGPGInfo'\n\\item 'ResponsiblePerson'\n\\item 'EmployerSize'\n\\item 'CurrentName'\n\\item 'SubmittedAfterTheDeadline'\n\\item 'DueDate'\n\\item 'DateSubmitted'\n\\end{enumerate*}\n",
            "text/plain": [
              " [1] \"EmployerName\"              \"EmployerId\"               \n",
              " [3] \"Address\"                   \"PostCode\"                 \n",
              " [5] \"CompanyNumber\"             \"SicCodes\"                 \n",
              " [7] \"DiffMeanHourlyPercent\"     \"DiffMedianHourlyPercent\"  \n",
              " [9] \"DiffMeanBonusPercent\"      \"DiffMedianBonusPercent\"   \n",
              "[11] \"MaleBonusPercent\"          \"FemaleBonusPercent\"       \n",
              "[13] \"MaleLowerQuartile\"         \"FemaleLowerQuartile\"      \n",
              "[15] \"MaleLowerMiddleQuartile\"   \"FemaleLowerMiddleQuartile\"\n",
              "[17] \"MaleUpperMiddleQuartile\"   \"FemaleUpperMiddleQuartile\"\n",
              "[19] \"MaleTopQuartile\"           \"FemaleTopQuartile\"        \n",
              "[21] \"CompanyLinkToGPGInfo\"      \"ResponsiblePerson\"        \n",
              "[23] \"EmployerSize\"              \"CurrentName\"              \n",
              "[25] \"SubmittedAfterTheDeadline\" \"DueDate\"                  \n",
              "[27] \"DateSubmitted\"            "
            ]
          },
          "metadata": {}
        },
        {
          "output_type": "stream",
          "name": "stdout",
          "text": [
            " [1] \"EmployerName\"              \"EmployerId\"               \n",
            " [3] \"Address\"                   \"PostCode\"                 \n",
            " [5] \"CompanyNumber\"             \"SicCodes\"                 \n",
            " [7] \"DiffMeanHourlyPercent\"     \"DiffMedianHourlyPercent\"  \n",
            " [9] \"DiffMeanBonusPercent\"      \"DiffMedianBonusPercent\"   \n",
            "[11] \"MaleBonusPercent\"          \"FemaleBonusPercent\"       \n",
            "[13] \"MaleLowerQuartile\"         \"FemaleLowerQuartile\"      \n",
            "[15] \"MaleLowerMiddleQuartile\"   \"FemaleLowerMiddleQuartile\"\n",
            "[17] \"MaleUpperMiddleQuartile\"   \"FemaleUpperMiddleQuartile\"\n",
            "[19] \"MaleTopQuartile\"           \"FemaleTopQuartile\"        \n",
            "[21] \"CompanyLinkToGPGInfo\"      \"ResponsiblePerson\"        \n",
            "[23] \"EmployerSize\"              \"CurrentName\"              \n",
            "[25] \"SubmittedAfterTheDeadline\" \"DueDate\"                  \n",
            "[27] \"DateSubmitted\"            \n"
          ]
        }
      ]
    },
    {
      "cell_type": "code",
      "source": [
        "dim(paygap)"
      ],
      "metadata": {
        "colab": {
          "base_uri": "https://localhost:8080/",
          "height": 34
        },
        "id": "Y7xfxyaGdanS",
        "outputId": "41e6f758-3c36-4010-8203-6f54e6039270"
      },
      "execution_count": 14,
      "outputs": [
        {
          "output_type": "display_data",
          "data": {
            "text/html": [
              "<style>\n",
              ".list-inline {list-style: none; margin:0; padding: 0}\n",
              ".list-inline>li {display: inline-block}\n",
              ".list-inline>li:not(:last-child)::after {content: \"\\00b7\"; padding: 0 .5ex}\n",
              "</style>\n",
              "<ol class=list-inline><li>10532</li><li>27</li></ol>\n"
            ],
            "text/markdown": "1. 10532\n2. 27\n\n\n",
            "text/latex": "\\begin{enumerate*}\n\\item 10532\n\\item 27\n\\end{enumerate*}\n",
            "text/plain": [
              "[1] 10532    27"
            ]
          },
          "metadata": {}
        }
      ]
    },
    {
      "cell_type": "code",
      "source": [
        "#2.3.1 Data types in R\n",
        "#character – e.g. 'abcd'\n",
        "#integer – integer numbers, e.g. '2'\n",
        "#numeric – decimal numbers, e.g. '2.21'\n",
        "#complex – complex numbers, e.g. '2+2i'\n",
        "#logical – either TRUE or FALSE"
      ],
      "metadata": {
        "id": "7yfDoV4wdwNS"
      },
      "execution_count": null,
      "outputs": []
    },
    {
      "cell_type": "code",
      "source": [
        "class(paygap)"
      ],
      "metadata": {
        "colab": {
          "base_uri": "https://localhost:8080/",
          "height": 34
        },
        "id": "UE1kBdhueBF5",
        "outputId": "1e3f590f-63e6-456d-b072-4f10397e76d2"
      },
      "execution_count": 15,
      "outputs": [
        {
          "output_type": "display_data",
          "data": {
            "text/html": [
              "'data.frame'"
            ],
            "text/markdown": "'data.frame'",
            "text/latex": "'data.frame'",
            "text/plain": [
              "[1] \"data.frame\""
            ]
          },
          "metadata": {}
        }
      ]
    },
    {
      "cell_type": "code",
      "source": [
        "class(paygap$DiffMeanHourlyPercent)"
      ],
      "metadata": {
        "colab": {
          "base_uri": "https://localhost:8080/",
          "height": 34
        },
        "id": "l_VJnah9eFkO",
        "outputId": "b67e3982-9f0e-4822-a24c-26458839cd52"
      },
      "execution_count": 16,
      "outputs": [
        {
          "output_type": "display_data",
          "data": {
            "text/html": [
              "'numeric'"
            ],
            "text/markdown": "'numeric'",
            "text/latex": "'numeric'",
            "text/plain": [
              "[1] \"numeric\""
            ]
          },
          "metadata": {}
        }
      ]
    },
    {
      "cell_type": "code",
      "source": [
        "# 3.1.1 Wrangling Data / Indexing \n",
        "# Cardiac dataset not found"
      ],
      "metadata": {
        "id": "yBAsd6VTeLQH"
      },
      "execution_count": 18,
      "outputs": []
    },
    {
      "cell_type": "code",
      "source": [
        "# Extract element in 1st row and 3th column from \n",
        " #cardiacdata[1,3]\n"
      ],
      "metadata": {
        "colab": {
          "base_uri": "https://localhost:8080/",
          "height": 34
        },
        "id": "2LuWbFBZfGMs",
        "outputId": "6ec2ff2d-da2a-4209-d050-b9d1eeab3f49"
      },
      "execution_count": 19,
      "outputs": [
        {
          "output_type": "display_data",
          "data": {
            "text/html": [
              "'Aberystwyth University, Penglais, Ceredigion, SY23 3FL'"
            ],
            "text/markdown": "'Aberystwyth University, Penglais, Ceredigion, SY23 3FL'",
            "text/latex": "'Aberystwyth University, Penglais, Ceredigion, SY23 3FL'",
            "text/plain": [
              "[1] \"Aberystwyth University, Penglais, Ceredigion, SY23 3FL\""
            ]
          },
          "metadata": {}
        }
      ]
    },
    {
      "cell_type": "code",
      "source": [
        "# Extract rows 5-7 from columns 1-3\n",
        "# cardiacdata[5:7,1:3]\n"
      ],
      "metadata": {
        "id": "XS3vnoDSgbw0"
      },
      "execution_count": 55,
      "outputs": []
    },
    {
      "cell_type": "code",
      "source": [
        "# 3.1.2 Extracting \n",
        "# extract column 'bodytemp' and assign to new object 'temperatures'\n",
        "# temperatures <- cardiacdata$bodytemp"
      ],
      "metadata": {
        "id": "BukUQij0gi9G"
      },
      "execution_count": 54,
      "outputs": []
    },
    {
      "cell_type": "code",
      "source": [
        "#3.1.3 Selecting columns \n",
        "# select columns 'gender' and 'heartrate' and assign to new object 'heartrates'\n",
        "# heartrates <- select(cardiacdata, gender, heartrate)\n"
      ],
      "metadata": {
        "id": "8uQcqMmchh7X"
      },
      "execution_count": 53,
      "outputs": []
    },
    {
      "cell_type": "code",
      "source": [
        "# 3.1.4 Renaming columns \n",
        "## append variable names with their respective units\n",
        "# rename 'bodytemp' to 'bodytemp_degF'\n",
        "# cardiacdata <- rename(cardiacdata, bodytemp_degF = bodytemp)\n",
        "\n",
        "# rename 'heartrate' to 'heartrate_bpm'\n",
        "# cardiacdata <- rename(cardiacdata, heartrate_bpm = heartrate)\n",
        "\n",
        "#head(cardiacdata)"
      ],
      "metadata": {
        "id": "7JH5VdBQkXU1"
      },
      "execution_count": 47,
      "outputs": []
    },
    {
      "cell_type": "code",
      "source": [
        "# 3.1.5 Adding/Changing Columns \n",
        "# add new column with body temperature in degrees celsius\n",
        "# cardiacdata <- mutate(cardiacdata, bodytemp_degC = (bodytemp_degF - 32)*(5/9))\n",
        "\n",
        "# change values in gender column to read \"Female\" and \"Male\" instead of 1 and 2\n",
        "# cardiacdata <- mutate(cardiacdata, gender = ifelse(gender == 1, 'Female', \n",
        "                                            #ifelse(gender == 2, 'Male', NA)))"
      ],
      "metadata": {
        "id": "O4ElNmZipxyZ"
      },
      "execution_count": 52,
      "outputs": []
    },
    {
      "cell_type": "code",
      "source": [
        "#head(cardiacdata)"
      ],
      "metadata": {
        "id": "Q8ahHnXonBAo"
      },
      "execution_count": 50,
      "outputs": []
    },
    {
      "cell_type": "code",
      "source": [
        "# 3.1.6 Filtering Data \n",
        "#cardiacdata_female <- filter(cardiacdata, gender == 'Female')"
      ],
      "metadata": {
        "id": "RVgr2Z4rnpuJ"
      },
      "execution_count": 49,
      "outputs": []
    },
    {
      "cell_type": "code",
      "source": [
        "# 3.1.7 Piping \n",
        "#cardiacdata <- cardiacdata %>%\n",
        "  #filter(gender == 'Female') %>%\n",
        "  #select(-gender) %>%\n",
        "  #mutate(bodytemp_Kelvin = bodytemp_degC + 273)"
      ],
      "metadata": {
        "id": "0C-xEqb7qhvs"
      },
      "execution_count": null,
      "outputs": []
    },
    {
      "cell_type": "code",
      "source": [
        "# 3.1.8 Aggregating Data \n",
        "# cardiacdata_byGender <- cardiacdata %>%\n",
        "# group_by(gender) %>%   \n",
        "# summarize(avg_bodytemp_degF = mean(bodytemp_degF),\n",
        "# avg_bodytemp_degC = mean(bodytemp_degC), \n",
        "# avg_heartrate_bpm = mean(heartrate_bpm))  "
      ],
      "metadata": {
        "id": "bulwKp9XqpJ9"
      },
      "execution_count": null,
      "outputs": []
    },
    {
      "cell_type": "code",
      "source": [
        "# 3.1.9 Dealing with missing data \n",
        "# some_numbers <- c(4,5,6,7,NA,8)\n",
        "# mean(some_numbers)\n",
        "\n",
        "# mean(some_numbers, na.rm = TRUE)"
      ],
      "metadata": {
        "id": "3hcAbjE6q5uv"
      },
      "execution_count": null,
      "outputs": []
    },
    {
      "cell_type": "code",
      "source": [
        "# 3.2.1 Histograms \n",
        "# ggplot(data = cardiacdata, mapping = aes(x = bodytemp_degC)) + \n",
        "  #geom_histogram(bins = 20)"
      ],
      "metadata": {
        "id": "2OWQP_XGrDkL"
      },
      "execution_count": null,
      "outputs": []
    },
    {
      "cell_type": "code",
      "source": [
        "# ggplot(data = cardiacdata, mapping = aes(x = bodytemp_degC)) + \n",
        "  # geom_histogram(bins = 20, aes(y = ..density..))"
      ],
      "metadata": {
        "id": "sCcXmh9CrJy0"
      },
      "execution_count": null,
      "outputs": []
    },
    {
      "cell_type": "code",
      "source": [
        "# ggplot(data = cardiacdata, mapping = aes(x = bodytemp_degC)) + \n",
        "  # geom_histogram(bins = 20, aes(y = ..density..), fill = 'lightblue') +\n",
        "  # xlab('body temperature (celsius)') +\n",
        "  # ggtitle('distribution of body temperatures') +\n",
        " `# theme_light()\n"
      ],
      "metadata": {
        "id": "ChhUcHB7rMq_"
      },
      "execution_count": null,
      "outputs": []
    },
    {
      "cell_type": "code",
      "source": [
        "# 3.2.2 Scatterplots\n",
        "\n",
        "# ggplot(data = cardiacdata, mapping = aes(x = heartrate_bpm, y = bodytemp_degC)) + \n",
        "  # geom_point() +\n",
        "  # theme_light()"
      ],
      "metadata": {
        "id": "y5sBhOQQrfDP"
      },
      "execution_count": null,
      "outputs": []
    },
    {
      "cell_type": "code",
      "source": [
        "# ggplot(data = cardiacdata, mapping = aes(x = heartrate_bpm, y = bodytemp_degC, color = gender)) + \n",
        "  # geom_point() +\n",
        "  # theme_light()"
      ],
      "metadata": {
        "id": "sadYPp4yrk2w"
      },
      "execution_count": null,
      "outputs": []
    },
    {
      "cell_type": "code",
      "source": [
        "# 3.2.3 Box & Whisker Plots\n",
        "# ggplot(data = cardiacdata, mapping = aes(x = gender, y = bodytemp_degC)) +\n",
        "  # geom_boxplot() +\n",
        "  # xlab('gender') +\n",
        "  # ylab('body temperature (celsius)') +\n",
        "  # theme_light()"
      ],
      "metadata": {
        "id": "rBxdMRQtrpQT"
      },
      "execution_count": null,
      "outputs": []
    }
  ]
}